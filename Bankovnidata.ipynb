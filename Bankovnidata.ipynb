{
 "cells": [
  {
   "cell_type": "code",
   "execution_count": 1,
   "metadata": {
    "jupyter": {
     "is_executing": true
    }
   },
   "outputs": [],
   "source": [
    "import pandas as pd\n",
    "import numpy as np\n",
    "import seaborn as sns\n",
    "from collections import Counter\n",
    "import matplotlib.pyplot as plt"
   ]
  },
  {
   "cell_type": "markdown",
   "metadata": {},
   "source": [
    "## Popis datasetu \n",
    "\n",
    "Využívaná data se týkají přímých marketingových kampaní portugalské banky (Portuguese banking institution). Marketingové kampaně byly realizovány přes telefonní hovory. V několika případech bylo nutné uskutečnit kontakt s klientem vícekrát, pro zjistění, zda došlo k otevření a často bylo třeba provést více než jeden kontakt se stejným klientem, aby bylo možné zjistit, zda byl termínovaný vklad sjednán. \n",
    "\n",
    "Zdroj: https://archive.ics.uci.edu/ml/datasets/bank+marketing\n"
   ]
  },
  {
   "cell_type": "code",
   "execution_count": null,
   "metadata": {
    "jupyter": {
     "is_executing": true
    }
   },
   "outputs": [],
   "source": [
    "# Load the CSV file into a pandas DataFrame\n",
    "import pandas as pd\n",
    "\n",
    "df = pd.read_csv('./data/bank-additional-full.csv', sep=\";\")\n",
    "\n",
    "df.head(10)"
   ]
  },
  {
   "cell_type": "code",
   "execution_count": null,
   "metadata": {},
   "outputs": [],
   "source": [
    "print(\"Rows count: \", df.shape[0])\n",
    "print(\"Columns count: \", df.shape[1])"
   ]
  },
  {
   "cell_type": "markdown",
   "metadata": {},
   "source": [
    "Datový soubor obsahuje 20 proměnných, \n",
    "- 10 numerických \n",
    "- 10 kategorických \n",
    "a jednu cílovou proměnnou \"y\", která určuje, zda klient sjednal termínovaný vklad a dosahuje hodnoty \"yes\" (termínovaný vklad sjednán) a \"no\" (termínovaný vklad nebyl sjednán).\n",
    "\n",
    "Soubor obsahuje 41188 pozorování. "
   ]
  },
  {
   "cell_type": "markdown",
   "metadata": {},
   "source": [
    "Popis proměnných: \n",
    "Numerické proměnné\n",
    "- 1 - Age: Věk klienta v letech.\n",
    "- 2 - Balance: Zůstatek na účtu klienta (v eurech).\n",
    "- 3 - Day: Den v měsíci, kdy byl poslední kontakt s klientem.\n",
    "- 4 - Duration: Délka posledního telefonického kontaktu (v sekundách).\n",
    "- 5 - Campaign: Počet kontaktů s klientem během aktuální marketingové kampaně.\n",
    "- 6 - Pdays: Počet dní od posledního kontaktu (999 znamená, že klient byl nikdy předtím nekontaktován).\n",
    "- 7 - Previous: Počet kontaktů s klientem před aktuální kampaní.\n",
    "- 8 - Emp.var.rate: Míra zaměstnanecké variability v posledním čtvrtletí (v procentech).\n",
    "- 9 - Cons.price.idx: Index cen spotřebitelů (v posledním měsíci).\n",
    "- 10 - Cons.conf.idx: Index důvěry spotřebitelů (v posledním měsíci).\n",
    "\n",
    "Kategorické proměnné\n",
    "- 11 - Job: Typ zaměstnání klienta (např. zaměstnanec, důchodce, podnikatel atd.).\n",
    "- 12 - Marital: Rodinný stav klienta (např. svobodný, ženatý, rozvedený).\n",
    "- 13 - Education: Vzdělání klienta (např. základní, střední, vysokoškolské).\n",
    "- 14 - Default: Zda má klient úvěrové selhání (ano/ne).\n",
    "- 15 - Housing: Zda má klient hypotéku (ano/ne).\n",
    "- 16 - Loan: Zda má klient osobní půjčku (ano/ne).\n",
    "- 17 - Contact: Způsob kontaktu (např. mobilní, pevná linka).\n",
    "- 18 - Month: Měsíc posledního kontaktu (např. leden, únor atd.).\n",
    "- 19 - Weekday: Den v týdnu posledního kontaktu (např. pondělí, úterý).\n",
    "- 20 - Poutcome: Výsledek předchozí marketingové kampaně (např. úspěšná, neúspěšná, žádná).\n",
    "\n",
    "Cílová proměnná \n",
    "Subscription: Binární proměnná indikující, zda klient podepsal termínovaný vklad (ano/ne)."
   ]
  },
  {
   "cell_type": "code",
   "execution_count": null,
   "metadata": {},
   "outputs": [],
   "source": [
    "#Data preprocessoring \n",
    "df.describe"
   ]
  },
  {
   "cell_type": "code",
   "execution_count": null,
   "metadata": {},
   "outputs": [],
   "source": [
    "df.info()\n",
    "#zde vidíme, kolik hodnot a jakého typu proměnná je "
   ]
  },
  {
   "cell_type": "code",
   "execution_count": null,
   "metadata": {},
   "outputs": [],
   "source": [
    "#vizualizace cílové proměnné \n",
    "plt.figure(figsize=(6, 4))\n",
    "df['y'].value_counts().plot(kind='bar', color=['skyblue', 'salmon'])\n",
    "plt.title('Podepsal klient termínovaný vklad?')\n",
    "plt.xlabel('y - cílová proměnná  ')\n",
    "plt.ylabel('Počet klientů')\n",
    "plt.xticks(rotation=0)\n",
    "plt.grid(axis='y')\n",
    "\n",
    "# Zobrazení histogramu\n",
    "plt.show()"
   ]
  },
  {
   "cell_type": "code",
   "execution_count": null,
   "metadata": {},
   "outputs": [],
   "source": [
    "#vizualizace vstupujících proměnných \n",
    "fig = plt.figure(figsize=(20,20))\n",
    "cols = list(df.columns)\n",
    "cols.remove(\"y\")\n",
    "\n",
    "for i, name in enumerate(cols):\n",
    "    x = fig.add_subplot(5,4,i+1)\n",
    "    if (df[name].dtype==\"object\"):\n",
    "        x.bar(df[name].sort_values().unique(), df[name].value_counts())\n",
    "    else:\n",
    "        x.hist(df[name])\n",
    "    x.set_title(name)"
   ]
  },
  {
   "cell_type": "code",
   "execution_count": null,
   "metadata": {},
   "outputs": [],
   "source": [
    "#chybějící hodnoty - je nutné nahradit hodnoty \"unknown\" hodnotami NA \n",
    "\n",
    "df2=df.replace(to_replace=\"unknown\",value=pd.NA)\n",
    "df2[\"pdays\"]=df2[[\"pdays\"]].replace(to_replace=999,value=np.nan)\n",
    "df2.head()\n"
   ]
  },
  {
   "cell_type": "code",
   "execution_count": null,
   "metadata": {},
   "outputs": [],
   "source": [
    "#nyní můžeme zjistit chybějící hodnoty a jejich počet\n",
    "na=df2.isnull()\n",
    "na.sum()"
   ]
  },
  {
   "cell_type": "code",
   "execution_count": null,
   "metadata": {},
   "outputs": [],
   "source": [
    "#korelace \n",
    "df_encoded = pd.get_dummies(df, drop_first=True)\n",
    "\n",
    "# Vytvoření korelační matice\n",
    "correlation_matrix = df_encoded.corr()\n",
    "\n",
    "#vizualizace \n",
    "plt.figure(figsize=(30, 30))\n",
    "sns.heatmap(correlation_matrix, annot=True, fmt=\".2f\", cmap='coolwarm', square=True)\n",
    "plt.title('Korelační matice')\n",
    "plt.show()"
   ]
  },
  {
   "cell_type": "markdown",
   "metadata": {},
   "source": [
    "Na základě informací o datovém souboru a chybějících proměnných jsme se rozhodli z analýzy vyřadit \"contact\", protože pro výsledek není relevantiní zda byl kontaktován přes pevnou linku nebo mobilní telefon. \n",
    "Pro velké množství chybějících pozorování odstraníme také proměnnou \"poutcome\". \n",
    "Pro analýzu je nutné také odstranit proměnnou \"nr.employed\", protože hodnota je získána až po realizaci telefonního hovoru a ovlivňuje cílovou proměnnou. Pokud dosahuje nr.employed hodnoty 0, pak cílová proměnná = \"no\". "
   ]
  },
  {
   "cell_type": "code",
   "execution_count": 12,
   "metadata": {},
   "outputs": [],
   "source": [
    "df2=df2.drop([\"pdays\", \"duration\", \"nr.employed\",\"poutcome\",\"contact\"],axis=1)\n",
    "#df2.head(10)"
   ]
  },
  {
   "cell_type": "markdown",
   "metadata": {},
   "source": [
    "Dataset neobsahuje také úplné informace o čase, pozorování jsou však sesbírána chronologicky. Vytvoříme novou proměnnou \"year\".  "
   ]
  },
  {
   "cell_type": "code",
   "execution_count": null,
   "metadata": {},
   "outputs": [],
   "source": [
    "df2[\"year\"] = 2008\n",
    "add_year = 0\n",
    "months = [\"jan\", \"feb\", \"mar\", \"apr\", \"may\", \"jun\", \"jul\", \"aug\", \"sep\", \"oct\", \"nov\", \"dec\"]\n",
    "actual_month = df2.loc[0, \"month\"]  \n",
    "\n",
    "for i in df2.index:\n",
    "    if (months.index(actual_month) > months.index(df2.loc[i, \"month\"])):\n",
    "        add_year += 1  \n",
    "    df2.loc[i, \"year\"] += add_year\n",
    "    actual_month = df2.loc[i, \"month\"]  \n",
    "\n",
    "print(df2.head())"
   ]
  },
  {
   "cell_type": "code",
   "execution_count": null,
   "metadata": {},
   "outputs": [],
   "source": [
    "#vytvoření nových intervalů pro proměnné \"previous\" a \"campaign\"\n",
    "\n",
    "fig = plt.figure(figsize=(20,10))\n",
    "ax1 = fig.add_subplot(1, 2, 1)\n",
    "ax2 = fig.add_subplot(1, 2, 2)\n",
    "\n",
    "ax1.bar(df[\"previous\"].sort_values().unique(), df[\"previous\"].value_counts())\n",
    "ax1.set_title('Boxplot of attribute \"previous\"')\n",
    "ax2.bar(df[\"campaign\"].sort_values().unique(), df[\"campaign\"].value_counts())\n",
    "ax2.set_title('Boxplot of attribute \"campaign\"')\n",
    "\n",
    "fig.show"
   ]
  },
  {
   "cell_type": "code",
   "execution_count": 15,
   "metadata": {},
   "outputs": [],
   "source": [
    "df2[\"previous_cat\"] = pd.cut(df2.previous, bins=[-1, 0, 2, 1000], labels=[\"0\", \"1-2\", \"3+\"])\n",
    "df2[\"campaign_cat\"] = pd.cut(df2.campaign, bins=[-1, 0, 1, 2, 3, 4, 10, 1000], labels=[\"0\", \"1\", \"2\", \"3\", \"4\", \"5-10\", \"10+\"])\n",
    "#df2.head\n",
    "# Zobrazení prvních několika řádků s novými kategoriemi\n",
    "#print(df2[[\"previous\", \"previous_cat\", \"campaign\", \"campaign_cat\"]].head())\n"
   ]
  },
  {
   "cell_type": "code",
   "execution_count": null,
   "metadata": {},
   "outputs": [],
   "source": [
    "#řešení missing values - nahrazení NaN hodnot nejčastějšími hodnotami (mód)\n",
    "\n",
    "for col in df2.columns:\n",
    "    if df2[col].dtype == \"object\" or df2[col].dtype == \"category\":\n",
    "        mode_value = df2[col].mode()[0]  # Získání módu\n",
    "        df2[col].fillna(mode_value, inplace=True) \n",
    "        \n",
    "\n",
    "#print(df2)"
   ]
  },
  {
   "cell_type": "code",
   "execution_count": null,
   "metadata": {},
   "outputs": [],
   "source": [
    "\n",
    "# převod proměnných typu object nebo category na číselné hodnoty 0 = no, 1 = yes a kategorizace  \n",
    "#kodovník \n",
    "\n",
    "data = pd.DataFrame()\n",
    "\n",
    "# Slovník pro uložení kódovníků\n",
    "kodovniky = {}\n",
    "\n",
    "for col in df2.columns:\n",
    "    if df2[col].dtype == \"object\" or df2[col].dtype == \"category\":\n",
    "        # Faktorizace sloupce\n",
    "        codes, uniques = pd.factorize(df2[col])\n",
    "        data[col] = codes + 1  # Přiřadíme 1, 2, 3 místo 0, 1, 2\n",
    "        \n",
    "        # Uložíme kódovník\n",
    "        kodovniky[col] = dict(enumerate(uniques, 1))  # +1 pro lepší čitelnost (začínáme od 1)\n",
    "    else:\n",
    "        data[col] = df2[col]\n",
    "\n",
    "# Úprava sloupce 'y'\n",
    "data['y'] = data['y'] - 1\n",
    "\n",
    "# Výpis všech kódovníků\n",
    "for col, kodovnik in kodovniky.items():\n",
    "    print(f\"Kódovník pro sloupec '{col}': {kodovnik}\")"
   ]
  },
  {
   "cell_type": "code",
   "execution_count": 719,
   "metadata": {},
   "outputs": [],
   "source": [
    "#kontrola datasetu \n",
    "#data.head(10)\n"
   ]
  },
  {
   "cell_type": "code",
   "execution_count": 720,
   "metadata": {},
   "outputs": [],
   "source": [
    "#data.describe"
   ]
  },
  {
   "cell_type": "code",
   "execution_count": 721,
   "metadata": {},
   "outputs": [],
   "source": [
    "#data.info "
   ]
  },
  {
   "cell_type": "code",
   "execution_count": 722,
   "metadata": {},
   "outputs": [],
   "source": [
    "#na2=data.isnull()\n",
    "#na2.sum()"
   ]
  },
  {
   "cell_type": "code",
   "execution_count": 723,
   "metadata": {},
   "outputs": [],
   "source": [
    "# Oddělení atributů (features) a cílové proměnné (target)\n",
    "X = df.drop(columns=['y'])  # Všechny sloupce kromě 'y'\n",
    "y = df['y']  # Cílová proměnná\n"
   ]
  },
  {
   "cell_type": "code",
   "execution_count": null,
   "metadata": {},
   "outputs": [],
   "source": [
    "# Rozdělené dat na trénovací a testovací\n",
    "\n",
    "# Oddělení atributů (features) a cílové proměnné (target)\n",
    "X = df2.drop(columns=['y'])  # Všechny sloupce kromě 'y' - cílové proměnné\n",
    "y = df2['y']  # Cílová proměnná\n",
    "\n",
    "# Rozdělení dat na trénovací a testovací sadu\n",
    "from sklearn.model_selection import train_test_split\n",
    "X_train, X_test, y_train, y_test = train_test_split(X, y, test_size=0.2, random_state=42) # 20% testovací, 80% trénovací. Random state znamená, že při každém stuštění bude stejné rozložení dat\n",
    "\n",
    "# Výpis velikosti trénovací a testovací sady\n",
    "print(\"Počet záznamů v trénovací sadě:\", X_train.shape[0])\n",
    "print(\"Počet záznamů v testovací sadě:\", X_test.shape[0])"
   ]
  }
 ],
 "metadata": {
  "kernelspec": {
   "display_name": "Python 3",
   "language": "python",
   "name": "python3"
  },
  "language_info": {
   "codemirror_mode": {
    "name": "ipython",
    "version": 3
   },
   "file_extension": ".py",
   "mimetype": "text/x-python",
   "name": "python",
   "nbconvert_exporter": "python",
   "pygments_lexer": "ipython3",
   "version": "3.11.3"
  }
 },
 "nbformat": 4,
 "nbformat_minor": 2
}
